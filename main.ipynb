{
 "cells": [
  {
   "cell_type": "code",
   "execution_count": 2,
   "id": "f20751a6-4859-4d0a-9716-227b38d4e64f",
   "metadata": {
    "ExecuteTime": {
     "end_time": "2024-05-16T00:49:58.541894Z",
     "start_time": "2024-05-16T00:49:57.719448Z"
    }
   },
   "outputs": [],
   "source": [
    "# import libraries \n",
    "from langchain_openai import ChatOpenAI\n",
    "import os\n",
    "from dotenv import load_dotenv\n",
    "from langchain_core.prompts import ChatPromptTemplate, MessagesPlaceholder\n",
    "from langchain_core.pydantic_v1 import BaseModel, Field\n",
    "from typing import List,Dict\n",
    "from langchain.agents import AgentExecutor\n",
    "import json\n",
    "from langchain_core.agents import AgentActionMessageLog, AgentFinish\n",
    "from abc import ABC, abstractmethod\n"
   ]
  },
  {
   "cell_type": "code",
   "execution_count": 3,
   "id": "ee409114-8d20-49af-9596-f1cbab5d8830",
   "metadata": {
    "ExecuteTime": {
     "end_time": "2024-05-16T00:49:58.559763Z",
     "start_time": "2024-05-16T00:49:58.547792Z"
    }
   },
   "outputs": [
    {
     "data": {
      "text/plain": "True"
     },
     "execution_count": 3,
     "metadata": {},
     "output_type": "execute_result"
    }
   ],
   "source": [
    "# Setting environment variables \n",
    "load_dotenv()"
   ]
  },
  {
   "cell_type": "code",
   "execution_count": 93,
   "id": "bf4bc729-3ea5-412a-b4c3-17129e59c25d",
   "metadata": {},
   "outputs": [],
   "source": [
    "class BaseGeneratorLLM(ABC):\n",
    "\n",
    "    @abstractmethod\n",
    "    def generate_content(user_resume:str,job_description:str):\n",
    "        pass"
   ]
  },
  {
   "cell_type": "code",
   "execution_count": 94,
   "id": "c8c858c5-c64a-4d48-8959-3c18ea156ac1",
   "metadata": {},
   "outputs": [],
   "source": [
    "# Generator LLM\n",
    "class GeneratorLLM(BaseGeneratorLLM):\n",
    "\n",
    "    def __init__(self,prompt_data:str,model_name:str = \"gpt-3.5-turbo\",temperature:float = 0.4):\n",
    "        self.llm = ChatOpenAI(model=model_name, temperature=temperature)\n",
    "        self.prompt_data : str = prompt_data\n",
    "        self.prompt = ChatPromptTemplate.from_messages(\n",
    "            [\n",
    "                (\"system\",f\"\"\"You are an experienced resume writer with over 10 years of experience.\n",
    "                            {prompt_data}\"\"\"),\n",
    "                (\"user\", \"User résumé: {user_resume} \\n\\n\\n\\n\\n Job Description:{job_description}\")\n",
    "            ]\n",
    "        )\n",
    "\n",
    "    def generate_content(self,user_resume :str,job_description:str) -> str:\n",
    "        self.chain = prompt | generator_llm\n",
    "        response : json = self.chain.invoke({\"user_resume\":user_resume, \"job_description\":job_description})\n",
    "        return response.content    \n",
    "        "
   ]
  },
  {
   "cell_type": "code",
   "execution_count": null,
   "id": "2c9855e7-5357-4084-8823-dc43a69fef6c",
   "metadata": {},
   "outputs": [],
   "source": [
    "class FactoryGeneratorLLM():\n",
    "\n",
    "    def __init__(self,file_path: str):\n",
    "        self.file_path = file_path\n",
    "        self.prompts = json.load(open(file_path))\n",
    " \n",
    "    def generate_object(self,category:str) -> BaseGeneratorLLM :\n",
    "\n",
    "        if category == \"Summary\":\n",
    "            prompt_data : str = self.prompts[\"Summary\"]            \n",
    "        else:\n",
    "            raise Exception (\"Category not supported\")\n",
    "        \n",
    "        llm_agent : BaseGeneratorLLM = GeneratorLLM(prompt_data)\n",
    "        return llm_agent"
   ]
  },
  {
   "cell_type": "code",
   "outputs": [],
   "source": [
    "class AssessResponse(BaseModel):\n",
    "    score: int = Field(description = \"Score of the resume given based on scale of 1-10\")\n",
    "    feedback: List[str] = Field(description=\"List of feedback provided to improve the resume.\")"
   ],
   "metadata": {
    "collapsed": false,
    "ExecuteTime": {
     "end_time": "2024-05-16T00:58:52.668488Z",
     "start_time": "2024-05-16T00:58:52.660743Z"
    }
   },
   "id": "743904db0a125fb3",
   "execution_count": 4
  },
  {
   "cell_type": "code",
   "outputs": [],
   "source": [
    "class AssessBaseLLM(ABC):\n",
    "    \n",
    "    @abstractmethod\n",
    "    def access(self,prompt: str):\n",
    "        pass\n",
    "\n",
    "    def parse(self,output):\n",
    "        # If no function was invoked, return to user\n",
    "        if \"function_call\" not in output.additional_kwargs:\n",
    "            return AgentFinish(return_values={\"output\": output.content}, log=output.content)\n",
    "    \n",
    "        # Parse out the function call\n",
    "        function_call = output.additional_kwargs[\"function_call\"]\n",
    "        name = function_call[\"name\"]\n",
    "        inputs = json.loads(function_call[\"arguments\"])\n",
    "    \n",
    "        # If the Response function was invoked, return to the user with the function inputs\n",
    "        if name == \"AssessResponse\":\n",
    "            return AgentFinish(return_values=inputs, log=str(function_call))\n",
    "        # Otherwise, return an agent action\n",
    "        else:\n",
    "            return AgentActionMessageLog(\n",
    "                tool=name, tool_input=inputs, log=\"\", message_log=[output]\n",
    "            )"
   ],
   "metadata": {
    "collapsed": false
   },
   "id": "122fea960c1117b6"
  },
  {
   "cell_type": "code",
   "outputs": [],
   "source": [
    "class AssessLLM(AssessBaseLLM):\n",
    "    \n",
    "    def __init__(self,prompt_data:str,model_name=\"gpt-3.5-turbo\",temperature=0.0):\n",
    "        self.llm = ChatOpenAI(model=model_name, temperature=temperature)\n",
    "        self.prompt = ChatPromptTemplate.from_messages(\n",
    "            [\n",
    "                (\n",
    "                    \"system\",prompt_data,\n",
    "                ),\n",
    "                (\"user\", \"User Section: {user_section} \\n\\n\\n\\n\\n Job Description:{job_description}\"),\n",
    "            ]\n",
    "        )\n",
    "        self.llm_with_tools = self.llm.bind_functions([AssessResponse])\n",
    "        self.agent = (\n",
    "                {\n",
    "                    \"user_section\": lambda x: x[\"user_section\"],\n",
    "                    \"job_description\": lambda x : x[\"job_description\"],\n",
    "                }\n",
    "                | self.prompt\n",
    "                | self.llm_with_tools\n",
    "                | AssessBaseLLM.parse\n",
    "        )\n",
    "        self.agent_executor = AgentExecutor(tools = [],agent=self.agent, verbose=True)\n",
    "        \n",
    "    \n",
    "    def access(self,user_section: str,job_description: str) -> AssessResponse:\n",
    "        response = self.agent_executor.invoke({\"job_description\" : job_description,\"user_section\" :response.content },return_only_outputs=True)\n",
    "        \n",
    "        pass\n",
    "        "
   ],
   "metadata": {
    "collapsed": false
   },
   "id": "2fc9881ddc744b17"
  },
  {
   "cell_type": "code",
   "execution_count": 43,
   "id": "871808fd-dbe1-4c13-a04c-20745c24e0d2",
   "metadata": {},
   "outputs": [],
   "source": [
    "# generator llm \n",
    "generator_llm = ChatOpenAI(model=\"gpt-3.5-turbo\", temperature=0.4)\n",
    "\n",
    "# TODO: add keywords \n",
    "\n",
    "prompt = ChatPromptTemplate.from_messages(\n",
    "    [\n",
    "        (\n",
    "            \"system\",\n",
    "            \"\"\"You are an experienced resume writer with over 10 years of experience.\n",
    "            This are the introduction about summary section which you are going to rewrite for user who is applying for specific job.\n",
    "            \n",
    "            Choose a title for this section that reflects who user is and how he want to represent himself.\n",
    "            \n",
    "            Goal: This key section provides a concise overview of your qualifications, showing the employer, in a few short seconds, how user stand out from other candidates. You may draw qualifications from any area of user's life (e.g., work, volunteer experience, education, or other activities). Typically, include four to six (maximum seven) points outlining users relevant strengths and achievements, beginning with the most relevant to the job. Points may begin with nouns or adjectives. Describe users competitive advantage — the value user offer.\n",
    "            \n",
    "            Goal: Tailor Summary of Qualifications section (and résumé) according to Job Description. Keep this section precise and accurate wording.\n",
    "            \n",
    "            Goal: Summary section must be industry specific. However, rather than copy sentences from a Job Description, include key words commonly used in the industry (Job Description) to which you are applying. No need to include all the keywords just a few to keep it natural.\n",
    "            \n",
    "            Highlight any key or unique achievements that will help user stand out among other applicants. Use strong adjectives and facts to describe users strengths. A phrase such as “Two years’ experience completing projects in…” has more impact than “good knowledge of …” Include following bullet points:\n",
    "\n",
    "            1. As a first bullet (if applicable), users experience (from paid/unpaid work, academics, or extracurricular activities) relevant to the position sought (e.g., one year experience in graphic design; three years process engineering experience with key responsibilities in product design and implementation; solid academic career focusing on business development initiatives in the field of specialty catalysts)\n",
    "            2. Users relevant knowledge/skills/expertise (e.g., “computer proficiency, report writing, program planning, public speaking, problem-solving”)\n",
    "            3. Any education that complements users practical experience (e.g., “machine design, resource assessment, marketing”)\n",
    "            4. A general reference to where user developed the skill (e.g., “proven leadership skills developed through three summers as camp counsellor”). Include this level of detail only once or twice so that points do not become too lengthy\n",
    "            5. Personal characteristics and attributes; however, include only those that are relevant to the position user is seeking and if it aligns with the job description (e.g., consistently able to deliver results under tight deadlines vs punctual, honest, etc.)\n",
    "            6. Specialized training/education if completed by user otherwise it should not be mentioned (e.g., “CPR certification”)\n",
    "\n",
    "            Rewrite just the user summary section along with job discription provided with all the above Goal in check and follow instructions provided in the above list if applicable.\n",
    "            Your response should be in form of paragraph\n",
    "            \"\"\",\n",
    "        ),\n",
    "        (\"user\", \"User résumé: {user_resume} \\n\\n\\n\\n\\n Job Description:{job_description}\"),\n",
    "    ]\n",
    ")"
   ]
  },
  {
   "cell_type": "code",
   "execution_count": 44,
   "id": "6f758c37-9891-4e7a-89a1-ce3fc90c3d1d",
   "metadata": {},
   "outputs": [],
   "source": [
    "chain = prompt | generator_llm"
   ]
  },
  {
   "cell_type": "code",
   "execution_count": 45,
   "id": "5662e764-003d-4bfd-b5df-233970e030e3",
   "metadata": {},
   "outputs": [],
   "source": [
    "response = chain.invoke({\"user_resume\":user_resume, \"job_description\":job_description})"
   ]
  },
  {
   "cell_type": "code",
   "execution_count": 46,
   "id": "7a4bfdc3-2f2f-4656-801b-9f94946e2344",
   "metadata": {},
   "outputs": [
    {
     "name": "stdout",
     "output_type": "stream",
     "text": [
      "Full-Stack Software Engineer with over 1.5 years of dynamic experience in Software Development, specializing in web development and AI initiatives. Proficient in problem-solving, machine learning, and algorithms, with a master’s degree in the field. Successfully enhanced ML pipeline performance, integrated backend to Azure, and optimized AI models resulting in significant cost savings and improved performance metrics. Skilled in API development, RESTful API interfaces, and database integration. Strong problem-solving skills, a passion for learning emerging technologies, and excellent communication abilities. Self-motivated, organized, and adept at working in fast-paced, collaborative environments. Proficient in Python and experienced with Azure Functions. Excited about the opportunity to contribute to innovative SaaS solutions in the capital markets industry.\n"
     ]
    }
   ],
   "source": [
    "print(response.content)"
   ]
  },
  {
   "cell_type": "code",
   "execution_count": 48,
   "id": "b435a804-790c-4926-b140-24a21f4a57e5",
   "metadata": {},
   "outputs": [
    {
     "data": {
      "text/plain": [
       "'Full-Stack Software Engineer with over 1.5 years of dynamic experience in Software Development, specializing in web development and AI initiatives. Proficient in problem-solving, machine learning, and algorithms, with a master’s degree in the field. Successfully enhanced ML pipeline performance, integrated backend to Azure, and optimized AI models resulting in significant cost savings and improved performance metrics. Skilled in API development, RESTful API interfaces, and database integration. Strong problem-solving skills, a passion for learning emerging technologies, and excellent communication abilities. Self-motivated, organized, and adept at working in fast-paced, collaborative environments. Proficient in Python and experienced with Azure Functions. Excited about the opportunity to contribute to innovative SaaS solutions in the capital markets industry.'"
      ]
     },
     "execution_count": 48,
     "metadata": {},
     "output_type": "execute_result"
    }
   ],
   "source": [
    "response.content"
   ]
  },
  {
   "cell_type": "code",
   "execution_count": 86,
   "id": "dda5ba84-9810-4b6c-9fc1-5efc6654dffb",
   "metadata": {},
   "outputs": [],
   "source": [
    "# Acessing llm\n",
    "\n",
    "class Response(BaseModel):\n",
    "    score: int = Field(description = \"Score of the resume given based on scale of 1-10\")\n",
    "    feedback: List[str] = Field(description=\"List of feedback provided to improve the resume.\")\n",
    "\n",
    "\n",
    "acessing_llm = ChatOpenAI(model=\"gpt-3.5-turbo\", temperature=0.4)\n",
    "\n",
    "prompt = ChatPromptTemplate.from_messages(\n",
    "    [\n",
    "        (\n",
    "            \"system\",\n",
    "            \"\"\"You are an experienced recruiter writer with over 10 years of experience.\n",
    "            This is Summary section of the resume rate it from scale of 1-10 and also provide some feedback to imporve the resume if available.\n",
    "            Critize wherever possible\n",
    "            \"\"\",\n",
    "        ),\n",
    "        (\"user\", \"User Section: {user_section} \\n\\n\\n\\n\\n Job Description:{job_description}\"),\n",
    "    ]\n",
    ")"
   ]
  },
  {
   "cell_type": "code",
   "execution_count": 87,
   "id": "494d71a1-9b35-4eb6-99f0-f0405a5b2d21",
   "metadata": {},
   "outputs": [],
   "source": [
    "llm_with_tools = acessing_llm.bind_functions([Response])"
   ]
  },
  {
   "cell_type": "code",
   "execution_count": 88,
   "id": "c29d92a1-3a47-48aa-a341-f28af5b20ad3",
   "metadata": {},
   "outputs": [],
   "source": [
    "def parse(output):\n",
    "    # If no function was invoked, return to user\n",
    "    if \"function_call\" not in output.additional_kwargs:\n",
    "        return AgentFinish(return_values={\"output\": output.content}, log=output.content)\n",
    "\n",
    "    # Parse out the function call\n",
    "    function_call = output.additional_kwargs[\"function_call\"]\n",
    "    name = function_call[\"name\"]\n",
    "    inputs = json.loads(function_call[\"arguments\"])\n",
    "\n",
    "    # If the Response function was invoked, return to the user with the function inputs\n",
    "    if name == \"Response\":\n",
    "        return AgentFinish(return_values=inputs, log=str(function_call))\n",
    "    # Otherwise, return an agent action\n",
    "    else:\n",
    "        return AgentActionMessageLog(\n",
    "            tool=name, tool_input=inputs, log=\"\", message_log=[output]\n",
    "        )"
   ]
  },
  {
   "cell_type": "code",
   "execution_count": 89,
   "id": "5a3d770e-c60e-413a-8508-0ab51834c6b5",
   "metadata": {},
   "outputs": [],
   "source": [
    "agent = (\n",
    "    {\n",
    "        \"user_section\": lambda x: x[\"user_section\"],\n",
    "        \"job_description\": lambda x : x[\"job_description\"],\n",
    "    }\n",
    "    | prompt\n",
    "    | llm_with_tools\n",
    "    | parse\n",
    ")"
   ]
  },
  {
   "cell_type": "code",
   "execution_count": 90,
   "id": "5c9c8937-8570-4f29-8f0c-1cb569eed188",
   "metadata": {},
   "outputs": [],
   "source": [
    "agent_executor = AgentExecutor(tools = [],agent=agent, verbose=True)"
   ]
  },
  {
   "cell_type": "code",
   "execution_count": 91,
   "id": "6313f734-3973-4193-82a4-2a3feaad83ac",
   "metadata": {},
   "outputs": [
    {
     "name": "stdout",
     "output_type": "stream",
     "text": [
      "\n",
      "\n",
      "\u001B[1m> Entering new AgentExecutor chain...\u001B[0m\n",
      "\u001B[32;1m\u001B[1;3m{'arguments': '{\"score\":8,\"feedback\":[\"The summary provides a good overview of your experience, skills, and achievements in software development, particularly in web development and AI initiatives.\",\"You have highlighted your key accomplishments such as enhancing ML pipeline performance, integrating backend to Azure, and optimizing AI models effectively.\",\"You have mentioned your proficiency in Python and experience with Azure Functions, which are relevant to the job description provided.\"]}', 'name': 'Response'}\u001B[0m\n",
      "\n",
      "\u001B[1m> Finished chain.\u001B[0m\n"
     ]
    },
    {
     "data": {
      "text/plain": [
       "{'score': 8,\n",
       " 'feedback': ['The summary provides a good overview of your experience, skills, and achievements in software development, particularly in web development and AI initiatives.',\n",
       "  'You have highlighted your key accomplishments such as enhancing ML pipeline performance, integrating backend to Azure, and optimizing AI models effectively.',\n",
       "  'You have mentioned your proficiency in Python and experience with Azure Functions, which are relevant to the job description provided.']}"
      ]
     },
     "execution_count": 91,
     "metadata": {},
     "output_type": "execute_result"
    }
   ],
   "source": [
    "agent_executor.invoke({\"job_description\" : job_description,\"user_section\" :response.content },return_only_outputs=True)"
   ]
  },
  {
   "cell_type": "code",
   "execution_count": null,
   "id": "112b3e02-b448-4646-9249-000dad6a852f",
   "metadata": {},
   "outputs": [],
   "source": []
  }
 ],
 "metadata": {
  "kernelspec": {
   "display_name": "Python 3",
   "language": "python",
   "name": "python3"
  },
  "language_info": {
   "codemirror_mode": {
    "name": "ipython",
    "version": 3
   },
   "file_extension": ".py",
   "mimetype": "text/x-python",
   "name": "python",
   "nbconvert_exporter": "python",
   "pygments_lexer": "ipython3",
   "version": "3.9.16"
  }
 },
 "nbformat": 4,
 "nbformat_minor": 5
}
