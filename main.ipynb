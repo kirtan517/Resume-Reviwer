{
 "cells": [
  {
   "cell_type": "code",
   "execution_count": 12,
   "id": "f20751a6-4859-4d0a-9716-227b38d4e64f",
   "metadata": {
    "ExecuteTime": {
     "end_time": "2024-05-16T18:12:01.366995Z",
     "start_time": "2024-05-16T18:12:01.360351Z"
    }
   },
   "outputs": [],
   "source": [
    "# import libraries \n",
    "from langchain_openai import ChatOpenAI\n",
    "import os\n",
    "from dotenv import load_dotenv\n",
    "from langchain_core.prompts import ChatPromptTemplate, MessagesPlaceholder\n",
    "from langchain_core.pydantic_v1 import BaseModel, Field\n",
    "from typing import List,Dict\n",
    "from langchain.agents import AgentExecutor\n",
    "import json\n",
    "from langchain_core.agents import AgentActionMessageLog, AgentFinish\n",
    "from abc import ABC, abstractmethod\n",
    "from prompts import RESUME_PROMPTS\n",
    "from inputs import USER_RESUME,JOB_DESCRIPTION"
   ]
  },
  {
   "cell_type": "code",
   "execution_count": 13,
   "id": "ee409114-8d20-49af-9596-f1cbab5d8830",
   "metadata": {
    "ExecuteTime": {
     "end_time": "2024-05-16T18:12:01.533512Z",
     "start_time": "2024-05-16T18:12:01.528900Z"
    }
   },
   "outputs": [
    {
     "data": {
      "text/plain": "True"
     },
     "execution_count": 13,
     "metadata": {},
     "output_type": "execute_result"
    }
   ],
   "source": [
    "# Setting environment variables \n",
    "load_dotenv()"
   ]
  },
  {
   "cell_type": "code",
   "execution_count": 14,
   "id": "bf4bc729-3ea5-412a-b4c3-17129e59c25d",
   "metadata": {
    "ExecuteTime": {
     "end_time": "2024-05-16T18:12:01.700009Z",
     "start_time": "2024-05-16T18:12:01.695975Z"
    }
   },
   "outputs": [],
   "source": [
    "class BaseGeneratorLLM(ABC):\n",
    "\n",
    "    @abstractmethod\n",
    "    def generate_content(user_resume:str,job_description:str):\n",
    "        pass"
   ]
  },
  {
   "cell_type": "code",
   "execution_count": 15,
   "id": "c8c858c5-c64a-4d48-8959-3c18ea156ac1",
   "metadata": {
    "ExecuteTime": {
     "end_time": "2024-05-16T18:12:01.873483Z",
     "start_time": "2024-05-16T18:12:01.862594Z"
    }
   },
   "outputs": [],
   "source": [
    "# Generator LLM\n",
    "class GeneratorLLM(BaseGeneratorLLM):\n",
    "\n",
    "    def __init__(self,prompt_data:str,model_name:str = \"gpt-4-1106-preview\",temperature:float = 0.2):\n",
    "        self.llm = ChatOpenAI(model=model_name, temperature=temperature)\n",
    "        self.prompt_data : str = prompt_data\n",
    "        self.prompt = ChatPromptTemplate.from_messages(\n",
    "            [\n",
    "                (\"system\",f\"\"\"You are an experienced resume writer with over 10 years of experience.\n",
    "                            {prompt_data}\"\"\"),\n",
    "                (\"user\", \"User résumé: {user_resume} \\n\\n\\n\\n\\n Job Description:{job_description}\")\n",
    "            ]\n",
    "        )\n",
    "\n",
    "    def generate_content(self,user_resume :str,job_description:str) -> str:\n",
    "        self.chain = self.prompt | self.llm\n",
    "        response : json = self.chain.invoke({\"user_resume\":user_resume, \"job_description\":job_description})\n",
    "        return response.content    \n",
    "        "
   ]
  },
  {
   "cell_type": "code",
   "execution_count": 16,
   "id": "2c9855e7-5357-4084-8823-dc43a69fef6c",
   "metadata": {
    "ExecuteTime": {
     "end_time": "2024-05-16T18:12:02.016122Z",
     "start_time": "2024-05-16T18:12:02.012062Z"
    }
   },
   "outputs": [],
   "source": [
    "class FactoryGeneratorLLM():\n",
    "\n",
    "    def __init__(self, prompts : str):\n",
    "        self.prompts = prompts\n",
    " \n",
    "    def generate_object(self,category:str) -> BaseGeneratorLLM :\n",
    "\n",
    "        if category == \"Summary\":\n",
    "            prompt_data : str = self.prompts[\"Summary\"]  \n",
    "        elif category == \"Experience\":\n",
    "            prompt_data : str = self.prompts[\"Experience\"]\n",
    "        elif category == \"Projects\":\n",
    "            prompt_data : str = self.prompts[\"Projects\"]\n",
    "        else:\n",
    "            raise Exception (\"Category not supported\")\n",
    "        \n",
    "        llm_agent : BaseGeneratorLLM = GeneratorLLM(prompt_data)\n",
    "        return llm_agent"
   ]
  },
  {
   "cell_type": "code",
   "outputs": [],
   "source": [
    "class AssessResponse(BaseModel):\n",
    "    score: int = Field(description = \"Score of the resume given based on scale of 1-10\")\n",
    "    feedback: List[str] = Field(description=\"List of feedback provided to improve the resume.\")"
   ],
   "metadata": {
    "collapsed": false,
    "ExecuteTime": {
     "end_time": "2024-05-16T18:12:02.200801Z",
     "start_time": "2024-05-16T18:12:02.197934Z"
    }
   },
   "id": "743904db0a125fb3",
   "execution_count": 17
  },
  {
   "cell_type": "code",
   "outputs": [],
   "source": [
    "class AssessBaseLLM(ABC):\n",
    "    \n",
    "    @abstractmethod\n",
    "    def assess(self,prompt: str):\n",
    "        pass"
   ],
   "metadata": {
    "collapsed": false,
    "ExecuteTime": {
     "end_time": "2024-05-16T18:12:02.431556Z",
     "start_time": "2024-05-16T18:12:02.427184Z"
    }
   },
   "id": "122fea960c1117b6",
   "execution_count": 18
  },
  {
   "cell_type": "code",
   "outputs": [],
   "source": [
    "class AssessLLM(AssessBaseLLM):\n",
    "    \n",
    "    def __init__(self,model_name=\"gpt-3.5-turbo\",temperature=0.0):        \n",
    "        self.llm = ChatOpenAI(model=model_name, temperature=temperature)\n",
    "        self.llm_with_tools = self.llm.bind_functions([AssessResponse])\n",
    "        \n",
    "    \n",
    "    def assess(self,user_section: str,job_description: str,section:str) -> AssessResponse:\n",
    "        self.prompt = ChatPromptTemplate.from_messages(\n",
    "            [\n",
    "                (\n",
    "                    \"system\",f\"\"\"You are an experienced recruiter writer with over 10 years of experience.\n",
    "\t\t\t\t\tThis is {section} section of the resume rate it from scale of 1-10 and also provide some feedback to imporve the resume if available.\n",
    "\t\t\t\t\tCritize wherever possible\n",
    "\t\t\t\t\t\"\"\",\n",
    "                ),\n",
    "                (\"user\", \"User Section: {user_section} \\n\\n\\n\\n\\n Job Description:{job_description}\"),\n",
    "            ]\n",
    "        )\n",
    "\n",
    "        def parse(output):\n",
    "            # If no function was invoked, return to user\n",
    "            if \"function_call\" not in output.additional_kwargs:\n",
    "                return AgentFinish(return_values={\"output\": output.content}, log=output.content)\n",
    "\n",
    "            # Parse out the function call\n",
    "            function_call = output.additional_kwargs[\"function_call\"]\n",
    "            name = function_call[\"name\"]\n",
    "            inputs = json.loads(function_call[\"arguments\"])\n",
    "\n",
    "            # If the Response function was invoked, return to the user with the function inputs\n",
    "            if name == \"AssessResponse\":\n",
    "                return AgentFinish(return_values=inputs, log=str(function_call))\n",
    "            # Otherwise, return an agent action\n",
    "            else:\n",
    "                return AgentActionMessageLog(\n",
    "                    tool=name, tool_input=inputs, log=\"\", message_log=[output]\n",
    "                )\n",
    "\n",
    "        self.agent = (\n",
    "                {\n",
    "                    \"user_section\": lambda x: x[\"user_section\"],\n",
    "                    \"job_description\": lambda x : x[\"job_description\"],\n",
    "                }\n",
    "                | self.prompt\n",
    "                | self.llm_with_tools\n",
    "                | parse\n",
    "        )\n",
    "        self.agent_executor = AgentExecutor(tools = [],agent=self.agent, verbose=False)\n",
    "        \n",
    "        response = self.agent_executor.invoke({\"job_description\" : job_description,\"user_section\" :user_section},return_only_outputs=True)\n",
    "        return AssessResponse(**response)        "
   ],
   "metadata": {
    "collapsed": false,
    "ExecuteTime": {
     "end_time": "2024-05-16T18:12:02.644504Z",
     "start_time": "2024-05-16T18:12:02.642221Z"
    }
   },
   "id": "2fc9881ddc744b17",
   "execution_count": 19
  },
  {
   "cell_type": "code",
   "outputs": [],
   "source": [
    "class RewriteResume():\n",
    "    \n",
    "    def __init__(self,user_resume:Dict,job_description:str,retries: int = 3):\n",
    "        self.user_resume : Dict = user_resume\n",
    "        self.job_description : str = job_description\n",
    "        self.retries : int = retries\n",
    "        self.factory: FactoryGeneratorLLM = FactoryGeneratorLLM(RESUME_PROMPTS)\n",
    "        self.assess_llm : AssessLLM = AssessLLM()\n",
    "\n",
    "    def generate_resume(self):\n",
    "        \n",
    "        for key,value in self.user_resume.items():\n",
    "            print(\"Generating Resume Section for : \",key)\n",
    "            # Generate the resume response\n",
    "            resumer_generator : BaseGeneratorLLM = self.factory.generate_object(key)\n",
    "            content : str = resumer_generator.generate_content(value,self.job_description)\n",
    "            \n",
    "            print(\"Content : \",content)\n",
    "            \n",
    "            # Assess the content \n",
    "            score: AssessResponse = self.assess_llm.assess(content,self.job_description,key)\n",
    "            print(\"\\n\\n\")\n",
    "            print(\"Score : \",score)\n",
    "            \n",
    "            print(\"\\n\\n\\n\" + \"#\" * 100 + \"\\n\\n\\n\")"
   ],
   "metadata": {
    "collapsed": false,
    "ExecuteTime": {
     "end_time": "2024-05-16T18:12:02.794068Z",
     "start_time": "2024-05-16T18:12:02.791051Z"
    }
   },
   "id": "48a8f814a35daccd",
   "execution_count": 20
  },
  {
   "cell_type": "code",
   "outputs": [],
   "source": [
    "rewriteResume = RewriteResume(user_resume=USER_RESUME,job_description=JOB_DESCRIPTION)"
   ],
   "metadata": {
    "collapsed": false,
    "ExecuteTime": {
     "end_time": "2024-05-16T18:12:02.971153Z",
     "start_time": "2024-05-16T18:12:02.947544Z"
    }
   },
   "id": "bcae685c7383bf06",
   "execution_count": 21
  },
  {
   "cell_type": "code",
   "outputs": [
    {
     "name": "stdout",
     "output_type": "stream",
     "text": [
      "Generating Resume Section for :  Summary\n",
      "Content :  **Professional Summary: Software Development Specialist**\n",
      "\n",
      "As a highly motivated Software Developer with over 1.5 years of experience in the tech industry, I have honed my skills in web development, AI, and software engineering. My expertise lies in Java, Eclipse IDE, and web services within client-server environments, complemented by a robust knowledge of code versioning tools like Git. With a master's degree in computer science, I am adept at problem-solving, machine learning, and algorithm development. My ability to quickly adapt to new technologies and my commitment to continuous learning align with the dynamic nature of modern software development. I am recognized for my strong analytical skills, excellent communication abilities, and a track record of delivering high-quality software solutions. My experience includes providing 24x7 on-call support and participating in project planning, ensuring that I am well-prepared to contribute to the sustainment and modernization of systems as outlined in the job description. I am eager to bring my technical acumen and proactive approach to Canada Life, where I can contribute to the well-being of Canadians and thrive within a diverse and inclusive team.\n",
      "\n",
      "\n",
      "\n",
      "Score :  score=8 feedback=['The professional summary effectively highlights your experience, skills, and qualifications for the Software Developer role at Canada Life.', 'You have provided specific examples of your expertise in Java, Eclipse IDE, web services, and code versioning tools like Git, which align well with the job description requirements.', 'Your mention of continuous learning and adaptability to new technologies demonstrates a proactive approach to professional development, which is a strong asset in the tech industry.']\n",
      "\n",
      "\n",
      "\n",
      "####################################################################################################\n",
      "\n",
      "\n",
      "\n",
      "Generating Resume Section for :  Experience\n",
      "Content :  Software Engineer at [Previous Company]\n",
      "- Spearheaded the enhancement of machine learning pipeline performance by integrating Retriever-Reader models, achieving a cost reduction of $0.005 per request, demonstrating a keen ability to optimize resources and improve efficiency.\n",
      "- Led the deployment of backend services to Azure, utilizing Azure Functions and integrating continuous integration/continuous deployment (CI/CD) processes, resulting in a monthly cost saving of $50 and showcasing adaptability to cloud technologies.\n",
      "- Advanced the performance of the RAG pipeline by 10% through the training of a custom model on AI-generated datasets, reflecting strong analytical skills and a commitment to continuous improvement in machine learning applications.\n",
      "- Implemented middleware for JWT authentication with Clerk API in FastAPI, enhancing the security and functionality of AI models by leveraging user information, indicating proficiency in API integration and authentication mechanisms.\n",
      "- Developed a state-of-the-art RESTful API with seamless integration to Cosmos DB, significantly enhancing frontend functionality and user experience, demonstrating expertise in creating robust and user-centric software solutions.\n",
      "\n",
      "Machine Learning Engineer at [Previous Company]\n",
      "- Designed and implemented technical indicators for stock market analysis, tailored to specific stock types, resulting in a 10% improvement in model performance, showcasing the ability to apply machine learning techniques to financial data.\n",
      "- Integrated LSTM-based network architecture for sentiment analysis into predictive models, further enhancing performance and demonstrating innovative use of deep learning techniques in practical applications.\n",
      "- Refactored the codebase to incorporate Factory and Composite Design patterns, enabling seamless feature integration and demonstrating a strong understanding of software design principles and patterns.\n",
      "\n",
      "Undergraduate Research Assistant at [University/Institution]\n",
      "- Conducted a comprehensive 10-year analysis of minute-by-minute weather data, employing machine learning clustering algorithms to uncover correlations, evidencing strong research capabilities and data analysis skills.\n",
      "- Engineered an Arduino-based system for real-time data capture, achieving a 55% reduction in data collection latency and designing an energy module with Xbee, Raspberry Pi, and a thermo-hygrometer, showcasing innovation and technical proficiency in hardware and software integration for data acquisition and visualization.\n",
      "\n",
      "\n",
      "\n",
      "Score :  score=8 feedback=['The Experience section is detailed and provides specific examples of your accomplishments in previous roles, which is great for showcasing your skills and expertise.', 'Consider adding more quantifiable achievements or results to further highlight your impact in each role, such as percentages or specific metrics related to cost savings, performance improvements, etc.', 'Ensure to tailor your resume to the specific job description provided to emphasize relevant skills and experiences for the Software Developer position at Canada Life.']\n",
      "\n",
      "\n",
      "\n",
      "####################################################################################################\n",
      "\n",
      "\n",
      "\n",
      "Generating Resume Section for :  Projects\n",
      "Content :  Based on the job description provided, here is the revised user project section for the résumé:\n",
      "\n",
      "**Custom RESTful API Development, Advanced Software Engineering, Jan. – May 20xx**\n",
      "- Engineered a custom RESTful API using SpringBoot and PostgreSQL, aligning with modern software development practices and addressing the need for scalable music streaming services.\n",
      "- Integrated JWT authentication to bolster security measures, ensuring the protection of user data and adherence to privacy standards.\n",
      "- Employed Redux for efficient state management, enhancing the user interface and contributing to a seamless user experience.\n",
      "\n",
      "**Machine Learning Model for Text Analysis, Data Science Capstone Project, Sept. – Dec. 20xx**\n",
      "- Developed and trained a custom transformer model with a specialized tokenizer to identify human-written text patterns, demonstrating proficiency in machine learning and natural language processing.\n",
      "- Executed a thorough comparative analysis between the custom model and a fine-tuned BERT model, showcasing analytical skills and attention to detail.\n",
      "- Achieved a high accuracy rate of 98.75% with the custom model, surpassing the performance of the robust BERT model, and demonstrating a commitment to excellence and innovation in software solutions.\n",
      "\n",
      "These projects have been selected and described to highlight skills and experiences that align with the job description, such as software development, problem-solving, and the ability to work with modern and legacy systems.\n",
      "\n",
      "\n",
      "\n",
      "Score :  score=8 feedback=['The Projects section has been revised to align with the job description provided, showcasing relevant skills and experiences.', 'The projects demonstrate proficiency in software development, problem-solving, and working with modern and legacy systems, which are key requirements for the Software Developer role.', 'The descriptions of the projects are detailed and highlight specific technologies and achievements, which can capture the attention of the recruiter.']\n",
      "\n",
      "\n",
      "\n",
      "####################################################################################################\n",
      "\n",
      "\n"
     ]
    }
   ],
   "source": [
    "rewriteResume.generate_resume()"
   ],
   "metadata": {
    "collapsed": false,
    "ExecuteTime": {
     "end_time": "2024-05-16T18:12:55.593561Z",
     "start_time": "2024-05-16T18:12:03.142690Z"
    }
   },
   "id": "e9840ecd8227b7b4",
   "execution_count": 22
  },
  {
   "cell_type": "code",
   "execution_count": null,
   "id": "112b3e02-b448-4646-9249-000dad6a852f",
   "metadata": {},
   "outputs": [],
   "source": []
  }
 ],
 "metadata": {
  "kernelspec": {
   "display_name": "Python 3",
   "language": "python",
   "name": "python3"
  },
  "language_info": {
   "codemirror_mode": {
    "name": "ipython",
    "version": 3
   },
   "file_extension": ".py",
   "mimetype": "text/x-python",
   "name": "python",
   "nbconvert_exporter": "python",
   "pygments_lexer": "ipython3",
   "version": "3.9.16"
  }
 },
 "nbformat": 4,
 "nbformat_minor": 5
}
